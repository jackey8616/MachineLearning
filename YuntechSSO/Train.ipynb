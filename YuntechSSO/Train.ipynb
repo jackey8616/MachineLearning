{
 "cells": [
  {
   "cell_type": "code",
   "execution_count": 1,
   "metadata": {
    "collapsed": true
   },
   "outputs": [],
   "source": [
    "from urllib import request\n",
    "import re, datetime, time \n",
    "\n",
    "from pytesseract import image_to_string\n",
    "from PIL import Image, ImageDraw, ImageOps\n",
    "from IPython.core.display import Image as Img, display\n",
    "\n",
    "urlCaptcha = 'https://webapp.yuntech.edu.tw/YunTechSSO/ImageValidationHandler.ashx?_dc='\n",
    "    \n",
    "def getImage():\n",
    "    timestamp = (int)(datetime.datetime.now().timestamp() * 1000)\n",
    "    res = request.urlretrieve(urlCaptcha + str(timestamp), './fetch_captcha/%s.jpg' % str(timestamp))\n",
    "    image = Image.open('./fetch_captcha/%s.jpg' % str(timestamp))\n",
    "    display(image)\n",
    "    return image, str(timestamp)\n",
    "    #imageInv = ImageOps.invert(image)\n",
    "    #return imageInv, str(timestamp)\n"
   ]
  },
  {
   "cell_type": "code",
   "execution_count": 2,
   "metadata": {
    "collapsed": true
   },
   "outputs": [],
   "source": [
    "# vocab.py\n",
    "import random\n",
    "import numpy as np\n",
    "'''\n",
    "    A default vocab implementation and base class, to provide random letters and numbers.\n",
    "'''\n",
    "class Vocab():\n",
    "    def __init__(self):\n",
    "        self.vocab = \"0123456789ABCDEFGHIJKLMNOPQRSTUVWXYZ\"\n",
    "        self.size = len(self.vocab)\n",
    "        indices = range(self.size)\n",
    "        self.index = dict(zip(self.vocab, indices))\n",
    "        \n",
    "    # return random string by given length\n",
    "    def rand_string(self, length):\n",
    "        # if len(vocab) == 0 raise exception\n",
    "        return \"\".join(random.sample(self.vocab, length))\n",
    "    \n",
    "    # get symbol (char in vocabulary) by its ordinal\n",
    "    def get_sym(self, idx):\n",
    "        # if idx >= len(self.vocab) raise exception\n",
    "        return self.vocab[idx]\n",
    "    \n",
    "    # given a symbol, return its ordinal in given vocabulary.\n",
    "    def get_index(self, sym):\n",
    "        return self.index[sym]\n",
    "    \n",
    "    # given 'abc', return [10, 11, 12]\n",
    "    def to_indices(self, text):\n",
    "        return [self.index[c] for c in text]\n",
    "    \n",
    "    # given [10, 11, 12], return 'abc'\n",
    "    def to_text(self, indices):\n",
    "        return \"\".join([self.vocab[i] for i in indices])\n",
    "    \n",
    "    # given '01', return vector [[1 0 0 0 0 0 0 0 0 0 ... 0],\n",
    "    #                            [0 1 0 0 0 0 0 0 0 0 ... 0]]\n",
    "    def text_to_one_hot(self, text):\n",
    "        num_labels = np.array(self.to_indices(text))\n",
    "        n = len(text)\n",
    "        categorical = np.zeros((n, self.size))\n",
    "        categorical[np.arange(n), num_labels] = 1\n",
    "        return categorical.ravel()\n",
    "    \n",
    "    # translate one hot vector to text.\n",
    "    def one_hot_to_text(self, onehots):\n",
    "        text_len = onehots.shape[0] // self.size\n",
    "        onehots = np.reshape(onehots, (text_len, self.size))\n",
    "        indices = np.argmax(onehots, axis = 1)\n",
    "        return self.to_text(indices)\n",
    "    "
   ]
  },
  {
   "cell_type": "code",
   "execution_count": 3,
   "metadata": {
    "collapsed": true
   },
   "outputs": [],
   "source": [
    "from PIL import Image, ImageFont, ImageDraw, ImageFilter\n",
    "import random\n",
    "\n",
    "class Captcha:\n",
    "    '''\n",
    "    size: width, height in pixel\n",
    "    font: font family(string), size (unit pound) and font color (in \"#rrggbb\" format)\n",
    "    bgcolor: in \"#rrggbb\" format\n",
    "    '''\n",
    "    def __init__(self, size, font, bgcolor, length = 4):\n",
    "        #todo: add param check and transform here\n",
    "        self.width, self.height = size\n",
    "        self.font_family, self.font_size, self.font_color = font\n",
    "        self.bgcolor = bgcolor\n",
    "        self.len = length\n",
    "        self.vocab = Vocab()\n",
    "        self.font = ImageFont.truetype(self.font_family, self.font_size)\n",
    "        \n",
    "    def get_text(self):\n",
    "        return self.vocab.rand_string(self.len)\n",
    "    \n",
    "    # by default, draw center align text\n",
    "    def draw_text(self, str):\n",
    "        dr = ImageDraw.Draw(self.im)\n",
    "        font_width, font_height = self.font.getsize(str)\n",
    "        # don't know why, but for center align, I should divide it by 2, other than 3\n",
    "        randX = random.randint(1, self.width - font_width - 1)\n",
    "        randY = random.randint(1, self.height - font_height - 1)\n",
    "        \n",
    "        #dr.text(((self.width - font_width) / 2, (self.height - font_height) / 2), str, fill = self.font_color, font = self.font)\n",
    "        dr.text((randX, randY), str, fill = self.font_color, font = self.font)\n",
    "    \n",
    "    def draw_background(self):\n",
    "        pass\n",
    "    \n",
    "    def filter(self):\n",
    "        self.im.filter(ImageFilter.EDGE_ENHANCE_MORE)\n",
    "    \n",
    "    # by default, add no noises\n",
    "    def add_noise(self):\n",
    "        pass\n",
    "    \n",
    "    def get_captcha(self):\n",
    "        self.im = Image.new(\"RGB\", (self.width, self.height), (self.bgcolor))\n",
    "        self.draw_background()\n",
    "        str = self.get_text()\n",
    "        self.draw_text(str)\n",
    "        self.add_noise()\n",
    "        self.filter()\n",
    "        return self.im, str\n",
    "    \n",
    "class SSOCaptcha(Captcha):\n",
    "    def __init__(self,\n",
    "                 size = (120, 40),\n",
    "                 font = (\"./font/arial.ttf\", 25, \"#FFFFFF\"),\n",
    "                 bgcolor = \"#000000\",\n",
    "                 dot_rate = 0.075):\n",
    "        Captcha.__init__(self, size, font, bgcolor)\n",
    "        self.dot_rate = dot_rate\n",
    "        \n",
    "    def add_noise(self):\n",
    "        dr = ImageDraw.Draw(self.im)\n",
    "            \n",
    "        # add pepper/salt noise.\n",
    "        for w in range(self.width):\n",
    "            for h in range(self.height):\n",
    "                if random.randint(0, 100) / 100 <= self.dot_rate:\n",
    "                    dr.point((w, h), fill = (255, 255, 255))\n",
    "                    \n",
    "    def draw_text(self, str):\n",
    "        display_text = [\" \"] * (len(str) * 2 - 1)\n",
    "        for i in range(len(str)):\n",
    "            display_text[i * 2] = str[i]\n",
    "        super().draw_text(str)\n"
   ]
  },
  {
   "cell_type": "code",
   "execution_count": 4,
   "metadata": {},
   "outputs": [
    {
     "name": "stdout",
     "output_type": "stream",
     "text": [
      "120 40 4 36\n"
     ]
    },
    {
     "data": {
      "text/plain": [
       "Text(0.5,1,'VHNW')"
      ]
     },
     "execution_count": 4,
     "metadata": {},
     "output_type": "execute_result"
    },
    {
     "data": {
      "image/png": "[encoded data removed]",
      "text/plain": [
       "<matplotlib.figure.Figure at 0x12b1f2ab748>"
      ]
     },
     "metadata": {
      "image/png": {
       "height": 158,
       "width": 370
      }
     },
     "output_type": "display_data"
    }
   ],
   "source": [
    "from captcha.image import ImageCaptcha\n",
    "import matplotlib.pyplot as plt\n",
    "import numpy as np\n",
    "import random\n",
    "\n",
    "%matplotlib inline\n",
    "%config InlineBackend.figure_format = 'retina'\n",
    "\n",
    "generator = SSOCaptcha()\n",
    "width = generator.width\n",
    "height = generator.height\n",
    "n_len = generator.len\n",
    "n_class = generator.vocab.size\n",
    "print(width, height, n_len, n_class)\n",
    "\n",
    "img, text = generator.get_captcha()\n",
    "\n",
    "plt.imshow(img)\n",
    "plt.title(text)"
   ]
  },
  {
   "cell_type": "code",
   "execution_count": 5,
   "metadata": {
    "collapsed": true
   },
   "outputs": [],
   "source": [
    "characters = \"0123456789ABCDEFGHIJKLMNOPQRSTUVWXYZ\"\n",
    "def gen(batch_size=32):\n",
    "    X = np.zeros((batch_size, height, width, 3), dtype=np.uint8)\n",
    "    y = [np.zeros((batch_size, n_class), dtype=np.uint8) for i in range(n_len)]\n",
    "    generator = SSOCaptcha()\n",
    "    while True:\n",
    "        for i in range(batch_size):\n",
    "            img, text = generator.get_captcha()\n",
    "            X[i] = img\n",
    "            for j, ch in enumerate(text):\n",
    "                y[j][i, :] = 0\n",
    "                y[j][i, characters.find(ch)] = 1\n",
    "        yield X, y"
   ]
  },
  {
   "cell_type": "code",
   "execution_count": 6,
   "metadata": {},
   "outputs": [
    {
     "data": {
      "text/plain": [
       "Text(0.5,1,'LU3R')"
      ]
     },
     "execution_count": 6,
     "metadata": {},
     "output_type": "execute_result"
    },
    {
     "data": {
      "image/png": "[encoded data removed]",
      "text/plain": [
       "<matplotlib.figure.Figure at 0x12b1fca3668>"
      ]
     },
     "metadata": {
      "image/png": {
       "height": 158,
       "width": 370
      }
     },
     "output_type": "display_data"
    }
   ],
   "source": [
    "characters = \"0123456789ABCDEFGHIJKLMNOPQRSTUVWXYZ\"\n",
    "def decode(y):\n",
    "    y = np.argmax(np.array(y), axis=2)[:,0]\n",
    "    return ''.join([characters[x] for x in y])\n",
    "\n",
    "X, y = next(gen(1))\n",
    "plt.imshow(X[0])\n",
    "plt.title(decode(y))"
   ]
  },
  {
   "cell_type": "code",
   "execution_count": 7,
   "metadata": {},
   "outputs": [
    {
     "name": "stderr",
     "output_type": "stream",
     "text": [
      "C:\\ProgramData\\Anaconda3\\lib\\site-packages\\h5py\\__init__.py:34: FutureWarning: Conversion of the second argument of issubdtype from `float` to `np.floating` is deprecated. In future, it will be treated as `np.float64 == np.dtype(float).type`.\n",
      "  from ._conv import register_converters as _register_converters\n",
      "Using TensorFlow backend.\n",
      "C:\\ProgramData\\Anaconda3\\lib\\site-packages\\ipykernel_launcher.py:16: UserWarning: Update your `Model` call to the Keras 2 API: `Model(inputs=Tensor(\"in..., outputs=[<tf.Tenso...)`\n",
      "  app.launch_new_instance()\n"
     ]
    }
   ],
   "source": [
    "import sys\n",
    "from keras.models import *\n",
    "from keras.layers import *\n",
    "\n",
    "input_tensor = Input((height, width, 3))\n",
    "x = input_tensor\n",
    "for i in range(4):\n",
    "    x = Convolution2D(32*2**i, kernel_size=(3, 3), padding='same', activation='relu')(x)\n",
    "    x = Convolution2D(32*2**i, kernel_size=(3, 3), padding='same', activation='relu')(x)\n",
    "    x = MaxPooling2D((2, 2))(x)\n",
    "\n",
    "x = Flatten()(x)\n",
    "x = Dropout(0.25)(x)\n",
    "x = [Dense(n_class, activation='softmax', name='c%d'%(i+1))(x) for i in range(4)]\n",
    "\n",
    "model = Model(input=input_tensor, output=x)"
   ]
  },
  {
   "cell_type": "code",
   "execution_count": 8,
   "metadata": {},
   "outputs": [
    {
     "name": "stdout",
     "output_type": "stream",
     "text": [
      "__________________________________________________________________________________________________\n",
      "Layer (type)                    Output Shape         Param #     Connected to                     \n",
      "==================================================================================================\n",
      "input_1 (InputLayer)            (None, 40, 120, 3)   0                                            \n",
      "__________________________________________________________________________________________________\n",
      "conv2d_1 (Conv2D)               (None, 40, 120, 32)  896         input_1[0][0]                    \n",
      "__________________________________________________________________________________________________\n",
      "conv2d_2 (Conv2D)               (None, 40, 120, 32)  9248        conv2d_1[0][0]                   \n",
      "__________________________________________________________________________________________________\n",
      "max_pooling2d_1 (MaxPooling2D)  (None, 20, 60, 32)   0           conv2d_2[0][0]                   \n",
      "__________________________________________________________________________________________________\n",
      "conv2d_3 (Conv2D)               (None, 20, 60, 64)   18496       max_pooling2d_1[0][0]            \n",
      "__________________________________________________________________________________________________\n",
      "conv2d_4 (Conv2D)               (None, 20, 60, 64)   36928       conv2d_3[0][0]                   \n",
      "__________________________________________________________________________________________________\n",
      "max_pooling2d_2 (MaxPooling2D)  (None, 10, 30, 64)   0           conv2d_4[0][0]                   \n",
      "__________________________________________________________________________________________________\n",
      "conv2d_5 (Conv2D)               (None, 10, 30, 128)  73856       max_pooling2d_2[0][0]            \n",
      "__________________________________________________________________________________________________\n",
      "conv2d_6 (Conv2D)               (None, 10, 30, 128)  147584      conv2d_5[0][0]                   \n",
      "__________________________________________________________________________________________________\n",
      "max_pooling2d_3 (MaxPooling2D)  (None, 5, 15, 128)   0           conv2d_6[0][0]                   \n",
      "__________________________________________________________________________________________________\n",
      "conv2d_7 (Conv2D)               (None, 5, 15, 256)   295168      max_pooling2d_3[0][0]            \n",
      "__________________________________________________________________________________________________\n",
      "conv2d_8 (Conv2D)               (None, 5, 15, 256)   590080      conv2d_7[0][0]                   \n",
      "__________________________________________________________________________________________________\n",
      "max_pooling2d_4 (MaxPooling2D)  (None, 2, 7, 256)    0           conv2d_8[0][0]                   \n",
      "__________________________________________________________________________________________________\n",
      "flatten_1 (Flatten)             (None, 3584)         0           max_pooling2d_4[0][0]            \n",
      "__________________________________________________________________________________________________\n",
      "dropout_1 (Dropout)             (None, 3584)         0           flatten_1[0][0]                  \n",
      "__________________________________________________________________________________________________\n",
      "c1 (Dense)                      (None, 36)           129060      dropout_1[0][0]                  \n",
      "__________________________________________________________________________________________________\n",
      "c2 (Dense)                      (None, 36)           129060      dropout_1[0][0]                  \n",
      "__________________________________________________________________________________________________\n",
      "c3 (Dense)                      (None, 36)           129060      dropout_1[0][0]                  \n",
      "__________________________________________________________________________________________________\n",
      "c4 (Dense)                      (None, 36)           129060      dropout_1[0][0]                  \n",
      "==================================================================================================\n",
      "Total params: 1,688,496\n",
      "Trainable params: 1,688,496\n",
      "Non-trainable params: 0\n",
      "__________________________________________________________________________________________________\n"
     ]
    }
   ],
   "source": [
    "model.summary()"
   ]
  },
  {
   "cell_type": "code",
   "execution_count": 9,
   "metadata": {
    "collapsed": true
   },
   "outputs": [],
   "source": [
    "model.compile(loss='categorical_crossentropy',\n",
    "              optimizer='adadelta',\n",
    "              #optimizer='adam',\n",
    "              metrics=['accuracy'])"
   ]
  },
  {
   "cell_type": "code",
   "execution_count": 11,
   "metadata": {},
   "outputs": [
    {
     "name": "stdout",
     "output_type": "stream",
     "text": [
      "Epoch 1/1\n",
      "10000/10000 [==============================] - 2655s 266ms/step - loss: 2.1303 - c1_loss: 0.4692 - c2_loss: 0.5953 - c3_loss: 0.6015 - c4_loss: 0.4644 - c1_acc: 0.8700 - c2_acc: 0.8390 - c3_acc: 0.8365 - c4_acc: 0.8717 - val_loss: 1.8080 - val_c1_loss: 0.4535 - val_c2_loss: 0.4529 - val_c3_loss: 0.4480 - val_c4_loss: 0.4536 - val_c1_acc: 0.9713 - val_c2_acc: 0.9708 - val_c3_acc: 0.9714 - val_c4_acc: 0.9712\n"
     ]
    },
    {
     "data": {
      "text/plain": [
       "<keras.callbacks.History at 0x12b5ec3dd68>"
      ]
     },
     "execution_count": 11,
     "metadata": {},
     "output_type": "execute_result"
    }
   ],
   "source": [
    "model.fit_generator(gen(),\n",
    "                    validation_data=gen(),\n",
    "                    steps_per_epoch=10000,\n",
    "                    #steps_per_epoch=51200,\n",
    "                    epochs=1,\n",
    "                    #epochs=5,\n",
    "                    validation_steps=1280)\n",
    "#model.fit_generator(gen(), samples_per_epoch=51200, nb_epoch=5, \n",
    "#                    validation_data=gen(), nb_val_samples=1280)"
   ]
  },
  {
   "cell_type": "code",
   "execution_count": 1,
   "metadata": {
    "collapsed": true
   },
   "outputs": [],
   "source": [
    "def show_train_history(train_history, train, validation):\n",
    "\n",
    "    plt.plot(train_history.history[train])\n",
    "\n",
    "    plt.plot(train_history.history[validation])\n",
    "\n",
    "    plt.title('Train History')\n",
    "\n",
    "    plt.ylabel('train')\n",
    "\n",
    "    plt.xlabel('Epoch')\n",
    "\n",
    "    plt.legend(['train', 'validation'], loc='center right')\n",
    "\n",
    "    plt.show()"
   ]
  },
  {
   "cell_type": "code",
   "execution_count": 43,
   "metadata": {},
   "outputs": [
    {
     "data": {
      "text/plain": [
       "<matplotlib.image.AxesImage at 0x12b01856860>"
      ]
     },
     "execution_count": 43,
     "metadata": {},
     "output_type": "execute_result"
    },
    {
     "data": {
      "image/png": "[encoded data removed]",
      "text/plain": [
       "<matplotlib.figure.Figure at 0x12b017726a0>"
      ]
     },
     "metadata": {
      "image/png": {
       "height": 171,
       "width": 370
      }
     },
     "output_type": "display_data"
    }
   ],
   "source": [
    "X, y = next(gen(1))\n",
    "y_pred = model.predict(X)\n",
    "plt.title('real: %s\\npred:%s'%(decode(y), decode(y_pred)))\n",
    "plt.imshow(X[0], cmap='gray')"
   ]
  },
  {
   "cell_type": "code",
   "execution_count": 13,
   "metadata": {
    "collapsed": true
   },
   "outputs": [],
   "source": [
    "characters = \"0123456789ABCDEFGHIJKLMNOPQRSTUVWXYZ\"\n",
    "def gen2(batch_size=32):\n",
    "    X = np.zeros((batch_size, height, width, 3), dtype=np.uint8)\n",
    "    y = [np.zeros((batch_size, n_class), dtype=np.uint8) for i in range(n_len)]\n",
    "    while True:\n",
    "        for i in range(batch_size):\n",
    "            img, text = getImage()\n",
    "            text = '1234'\n",
    "            X[i] = img\n",
    "            for j, ch in enumerate(text):\n",
    "                y[j][i, :] = 0\n",
    "                y[j][i, characters.find(ch)] = 1\n",
    "        yield X, y"
   ]
  },
  {
   "cell_type": "code",
   "execution_count": 72,
   "metadata": {},
   "outputs": [
    {
     "data": {
      "image/png": "[encoded data removed]",
      "text/plain": [
       "<PIL.JpegImagePlugin.JpegImageFile image mode=RGB size=120x40 at 0x12B05132710>"
      ]
     },
     "metadata": {},
     "output_type": "display_data"
    },
    {
     "data": {
      "text/plain": [
       "<matplotlib.image.AxesImage at 0x12b051bbbe0>"
      ]
     },
     "execution_count": 72,
     "metadata": {},
     "output_type": "execute_result"
    },
    {
     "data": {
      "image/png": "[encoded data removed]",
      "text/plain": [
       "<matplotlib.figure.Figure at 0x12b05132710>"
      ]
     },
     "metadata": {
      "image/png": {
       "height": 171,
       "width": 370
      }
     },
     "output_type": "display_data"
    }
   ],
   "source": [
    "X, y = next(gen2(1))\n",
    "y_pred = model.predict(X)\n",
    "plt.title('real: %s\\npred:%s'%(decode(y), decode(y_pred)))\n",
    "plt.imshow(X[0], cmap='gray')"
   ]
  },
  {
   "cell_type": "code",
   "execution_count": 61,
   "metadata": {
    "collapsed": true
   },
   "outputs": [],
   "source": [
    "modelJson = model.to_json()"
   ]
  },
  {
   "cell_type": "code",
   "execution_count": 63,
   "metadata": {
    "collapsed": true
   },
   "outputs": [],
   "source": [
    "with open('./model/sso.model.json', 'w') as jsonFile:\n",
    "    jsonFile.write(modelJson)\n",
    "model.save_weights('./model/sso.weights.h5')"
   ]
  },
  {
   "cell_type": "code",
   "execution_count": null,
   "metadata": {
    "collapsed": true
   },
   "outputs": [],
   "source": []
  }
 ],
 "metadata": {
  "kernelspec": {
   "display_name": "Python 3",
   "language": "python",
   "name": "python3"
  },
  "language_info": {
   "codemirror_mode": {
    "name": "ipython",
    "version": 3
   },
   "file_extension": ".py",
   "mimetype": "text/x-python",
   "name": "python",
   "nbconvert_exporter": "python",
   "pygments_lexer": "ipython3",
   "version": "3.6.3"
  }
 },
 "nbformat": 4,
 "nbformat_minor": 2
}
